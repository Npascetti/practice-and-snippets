{
 "cells": [
  {
   "cell_type": "code",
   "execution_count": 1,
   "metadata": {},
   "outputs": [],
   "source": [
    "import random\n",
    "from random import *\n",
    "from collections import defaultdict"
   ]
  },
  {
   "cell_type": "code",
   "execution_count": 2,
   "metadata": {},
   "outputs": [],
   "source": [
    "suits = ['h', 'd', 'c', 's']"
   ]
  },
  {
   "cell_type": "code",
   "execution_count": 3,
   "metadata": {},
   "outputs": [],
   "source": [
    "values = ['2', '3', '4', '5', '6', '7', '8', '9', '10', 'j', 'q', 'k', 'a']"
   ]
  },
  {
   "cell_type": "code",
   "execution_count": 346,
   "metadata": {},
   "outputs": [],
   "source": [
    "deck = [(value, suit) for suit in suits for value in values]\n",
    "enumDeck = list(enumerate(deck, 1))\n"
   ]
  },
  {
   "cell_type": "code",
   "execution_count": 347,
   "metadata": {},
   "outputs": [],
   "source": [
    "class Card:\n",
    "    def __init__(self, value, suit):\n",
    "        self.value = value\n",
    "        self.suit = suit"
   ]
  },
  {
   "cell_type": "code",
   "execution_count": 348,
   "metadata": {},
   "outputs": [
    {
     "data": {
      "text/plain": [
       "[('2', 'h'),\n",
       " ('3', 'h'),\n",
       " ('4', 'h'),\n",
       " ('5', 'h'),\n",
       " ('6', 'h'),\n",
       " ('7', 'h'),\n",
       " ('8', 'h'),\n",
       " ('9', 'h'),\n",
       " ('10', 'h'),\n",
       " ('j', 'h'),\n",
       " ('q', 'h'),\n",
       " ('k', 'h'),\n",
       " ('a', 'h'),\n",
       " ('2', 'd'),\n",
       " ('3', 'd'),\n",
       " ('4', 'd'),\n",
       " ('5', 'd'),\n",
       " ('6', 'd'),\n",
       " ('7', 'd'),\n",
       " ('8', 'd'),\n",
       " ('9', 'd'),\n",
       " ('10', 'd'),\n",
       " ('j', 'd'),\n",
       " ('q', 'd'),\n",
       " ('k', 'd'),\n",
       " ('a', 'd'),\n",
       " ('2', 'c'),\n",
       " ('3', 'c'),\n",
       " ('4', 'c'),\n",
       " ('5', 'c'),\n",
       " ('6', 'c'),\n",
       " ('7', 'c'),\n",
       " ('8', 'c'),\n",
       " ('9', 'c'),\n",
       " ('10', 'c'),\n",
       " ('j', 'c'),\n",
       " ('q', 'c'),\n",
       " ('k', 'c'),\n",
       " ('a', 'c'),\n",
       " ('2', 's'),\n",
       " ('3', 's'),\n",
       " ('4', 's'),\n",
       " ('5', 's'),\n",
       " ('6', 's'),\n",
       " ('7', 's'),\n",
       " ('8', 's'),\n",
       " ('9', 's'),\n",
       " ('10', 's'),\n",
       " ('j', 's'),\n",
       " ('q', 's'),\n",
       " ('k', 's'),\n",
       " ('a', 's')]"
      ]
     },
     "execution_count": 348,
     "metadata": {},
     "output_type": "execute_result"
    }
   ],
   "source": [
    "deck"
   ]
  },
  {
   "cell_type": "code",
   "execution_count": 349,
   "metadata": {},
   "outputs": [],
   "source": [
    "def dealCards(numPlayers, numCardsForDeal):\n",
    "    hands = defaultdict(list)\n",
    "    shuffledDeck = sample(deck, 52)\n",
    "    i = 0\n",
    "    for x in range(numPlayers * numCardsForDeal):\n",
    "        hands[i].append(shuffledDeck[0])\n",
    "        shuffledDeck.pop(0)\n",
    "        i += 1\n",
    "        if i > (numPlayers - 1):\n",
    "            i = 0\n",
    "    print(hands)"
   ]
  },
  {
   "cell_type": "code",
   "execution_count": 350,
   "metadata": {},
   "outputs": [
    {
     "name": "stdout",
     "output_type": "stream",
     "text": [
      "defaultdict(<class 'list'>, {0: [('3', 'h'), ('k', 'd'), ('8', 'c'), ('2', 's'), ('j', 'c'), ('5', 'h'), ('a', 'h'), ('j', 'd')], 1: [('3', 'c'), ('k', 's'), ('10', 's'), ('9', 'c'), ('2', 'c'), ('j', 's'), ('9', 'h'), ('6', 'd')]})\n"
     ]
    }
   ],
   "source": [
    "dealCards(2,8)"
   ]
  },
  {
   "cell_type": "code",
   "execution_count": 391,
   "metadata": {},
   "outputs": [],
   "source": [
    "class Game:\n",
    "    def __init__(self, name, numPlayers, numCardsForDeal, ):\n",
    "        self.name = name\n",
    "        self.numPlayers = numPlayers\n",
    "        self.numCardsForDeal = numCardsForDeal\n",
    "        self.discardPile = defaultdict(list)\n",
    "        self.inPlayCards = defaultdict(list)\n",
    "        self.discardedCards = defaultdict(list)\n",
    "        self.shuffledDeck = []\n",
    "        \n",
    "        values = ['2', '3', '4', '5', '6', '7', '8', '9', '10', 'j', 'q', 'k', 'a']\n",
    "        suits = ['h', 'd', 'c', 's']\n",
    "        self.deck = [(value, suit) for suit in suits for value in values]\n",
    "        self.enumDeck = list(enumerate(self.deck, 1))\n",
    "        \n",
    "    def shuffleDeck(self):\n",
    "        if self.shuffledDeck == []:\n",
    "            self.shuffledDeck = sample(self.deck, 52)\n",
    "            return self.shuffledDeck\n",
    "        self.shuffledDeck = sample(self.shuffledDeck, len(self.shuffledDeck))\n",
    "        return self.shuffledDeck\n",
    "        \n",
    "    def dealCards(self):\n",
    "        self.hands = defaultdict(list)\n",
    "        i = 0\n",
    "        for x in range(self.numPlayers * self.numCardsForDeal):\n",
    "            self.hands[i].append(self.shuffledDeck[0])\n",
    "            self.shuffledDeck.pop(0)\n",
    "            i += 1\n",
    "            if i > (self.numPlayers - 1):\n",
    "                i = 0\n",
    "        return self.hands\n",
    "    \n",
    "    def drawCards(self, playerPosition, numCardsToDraw):\n",
    "        for x in range(numCardsToDraw):\n",
    "            self.hands[playerPosition].append(self.shuffledDeck[0])\n",
    "            self.shuffledDeck.pop(0)\n",
    "        \n",
    "    def playCards(self, playerPosition, cardValues):\n",
    "        for cardValue in cardValues:\n",
    "            if cardValue in self.hands[playerPosition]:\n",
    "                self.inPlayCards[playerPosition].append(cardValue)\n",
    "                self.hands[playerPosition].remove(cardValue)\n",
    "        return self.inPlayCards\n",
    "                \n",
    "    def movePlayedCards(self, fromPlayerPosition, toPlayerPosition, cardValues):\n",
    "        for cardValue in cardValues:\n",
    "            if cardValue in self.inPlayCards[fromPlayerPosition]:\n",
    "                self.hands[toPlayerPosition].append(cardValue)\n",
    "                self.inPlayCards[fromPlayerPosition].remove(cardValue)\n",
    "    \n",
    "    def discardCards(self, playerPosition, cardValues):\n",
    "        for cardValue in cardValues:\n",
    "                if cardValue in self.hands[playerPosition] or cardValue in self.inPlayCards[playerPosition]:\n",
    "                    self.discardedCards[playerPosition].append(cardValue)\n",
    "                    if cardValue in self.hands[playerPosition]:\n",
    "                        self.hands[playerPosition].remove(cardValue)\n",
    "                    if cardValue in self.inPlayCards[playerPosition]:\n",
    "                        self.inPlayCards[playerPosition].remove(cardValue)\n",
    "                        \n",
    "    def sortPairs(self, playerPosition):\n",
    "        return sorted(self.hands[playerPosition], key=lambda deck: deck)\n",
    "        \n",
    "    def sortAscending(self, playerPosition):\n",
    "        return sorted(self.hands[playerPosition], key=lambda enumDeck: enumDeck[0][0])\n",
    "        "
   ]
  },
  {
   "cell_type": "code",
   "execution_count": 392,
   "metadata": {},
   "outputs": [],
   "source": [
    "war = Game(\"Golf\", 2, 8)"
   ]
  },
  {
   "cell_type": "code",
   "execution_count": 393,
   "metadata": {},
   "outputs": [
    {
     "data": {
      "text/plain": [
       "[]"
      ]
     },
     "execution_count": 393,
     "metadata": {},
     "output_type": "execute_result"
    }
   ],
   "source": [
    "war.shuffledDeck"
   ]
  },
  {
   "cell_type": "code",
   "execution_count": 394,
   "metadata": {
    "scrolled": true
   },
   "outputs": [
    {
     "data": {
      "text/plain": [
       "[('6', 'h'),\n",
       " ('2', 'h'),\n",
       " ('k', 's'),\n",
       " ('8', 'd'),\n",
       " ('q', 'h'),\n",
       " ('10', 'h'),\n",
       " ('10', 'c'),\n",
       " ('2', 's'),\n",
       " ('10', 's'),\n",
       " ('4', 'c'),\n",
       " ('9', 's'),\n",
       " ('6', 's'),\n",
       " ('3', 'h'),\n",
       " ('j', 'd'),\n",
       " ('2', 'd'),\n",
       " ('k', 'h'),\n",
       " ('7', 's'),\n",
       " ('7', 'c'),\n",
       " ('9', 'd'),\n",
       " ('7', 'd'),\n",
       " ('9', 'c'),\n",
       " ('4', 'd'),\n",
       " ('j', 'h'),\n",
       " ('9', 'h'),\n",
       " ('a', 'c'),\n",
       " ('a', 'h'),\n",
       " ('8', 'c'),\n",
       " ('q', 'c'),\n",
       " ('6', 'c'),\n",
       " ('q', 's'),\n",
       " ('j', 'c'),\n",
       " ('a', 's'),\n",
       " ('4', 'h'),\n",
       " ('5', 'c'),\n",
       " ('5', 'd'),\n",
       " ('q', 'd'),\n",
       " ('5', 'h'),\n",
       " ('k', 'c'),\n",
       " ('2', 'c'),\n",
       " ('j', 's'),\n",
       " ('3', 'c'),\n",
       " ('3', 'd'),\n",
       " ('7', 'h'),\n",
       " ('8', 's'),\n",
       " ('6', 'd'),\n",
       " ('k', 'd'),\n",
       " ('4', 's'),\n",
       " ('3', 's'),\n",
       " ('8', 'h'),\n",
       " ('10', 'd'),\n",
       " ('a', 'd'),\n",
       " ('5', 's')]"
      ]
     },
     "execution_count": 394,
     "metadata": {},
     "output_type": "execute_result"
    }
   ],
   "source": [
    "war.shuffleDeck()"
   ]
  },
  {
   "cell_type": "code",
   "execution_count": 395,
   "metadata": {
    "scrolled": true
   },
   "outputs": [
    {
     "data": {
      "text/plain": [
       "[('6', 'h'),\n",
       " ('2', 'h'),\n",
       " ('k', 's'),\n",
       " ('8', 'd'),\n",
       " ('q', 'h'),\n",
       " ('10', 'h'),\n",
       " ('10', 'c'),\n",
       " ('2', 's'),\n",
       " ('10', 's'),\n",
       " ('4', 'c'),\n",
       " ('9', 's'),\n",
       " ('6', 's'),\n",
       " ('3', 'h'),\n",
       " ('j', 'd'),\n",
       " ('2', 'd'),\n",
       " ('k', 'h'),\n",
       " ('7', 's'),\n",
       " ('7', 'c'),\n",
       " ('9', 'd'),\n",
       " ('7', 'd'),\n",
       " ('9', 'c'),\n",
       " ('4', 'd'),\n",
       " ('j', 'h'),\n",
       " ('9', 'h'),\n",
       " ('a', 'c'),\n",
       " ('a', 'h'),\n",
       " ('8', 'c'),\n",
       " ('q', 'c'),\n",
       " ('6', 'c'),\n",
       " ('q', 's'),\n",
       " ('j', 'c'),\n",
       " ('a', 's'),\n",
       " ('4', 'h'),\n",
       " ('5', 'c'),\n",
       " ('5', 'd'),\n",
       " ('q', 'd'),\n",
       " ('5', 'h'),\n",
       " ('k', 'c'),\n",
       " ('2', 'c'),\n",
       " ('j', 's'),\n",
       " ('3', 'c'),\n",
       " ('3', 'd'),\n",
       " ('7', 'h'),\n",
       " ('8', 's'),\n",
       " ('6', 'd'),\n",
       " ('k', 'd'),\n",
       " ('4', 's'),\n",
       " ('3', 's'),\n",
       " ('8', 'h'),\n",
       " ('10', 'd'),\n",
       " ('a', 'd'),\n",
       " ('5', 's')]"
      ]
     },
     "execution_count": 395,
     "metadata": {},
     "output_type": "execute_result"
    }
   ],
   "source": [
    "war.shuffledDeck"
   ]
  },
  {
   "cell_type": "code",
   "execution_count": 396,
   "metadata": {
    "scrolled": true
   },
   "outputs": [
    {
     "data": {
      "text/plain": [
       "defaultdict(list,\n",
       "            {0: [('6', 'h'),\n",
       "              ('k', 's'),\n",
       "              ('q', 'h'),\n",
       "              ('10', 'c'),\n",
       "              ('10', 's'),\n",
       "              ('9', 's'),\n",
       "              ('3', 'h'),\n",
       "              ('2', 'd')],\n",
       "             1: [('2', 'h'),\n",
       "              ('8', 'd'),\n",
       "              ('10', 'h'),\n",
       "              ('2', 's'),\n",
       "              ('4', 'c'),\n",
       "              ('6', 's'),\n",
       "              ('j', 'd'),\n",
       "              ('k', 'h')]})"
      ]
     },
     "execution_count": 396,
     "metadata": {},
     "output_type": "execute_result"
    }
   ],
   "source": [
    "war.dealCards()"
   ]
  },
  {
   "cell_type": "code",
   "execution_count": 397,
   "metadata": {},
   "outputs": [
    {
     "data": {
      "text/plain": [
       "defaultdict(list, {0: [('10', 's')]})"
      ]
     },
     "execution_count": 397,
     "metadata": {},
     "output_type": "execute_result"
    }
   ],
   "source": [
    "war.playCards(0, [('10', 's')])"
   ]
  },
  {
   "cell_type": "code",
   "execution_count": 398,
   "metadata": {
    "scrolled": true
   },
   "outputs": [
    {
     "data": {
      "text/plain": [
       "[('10', 'c'),\n",
       " ('2', 'd'),\n",
       " ('3', 'h'),\n",
       " ('6', 'h'),\n",
       " ('9', 's'),\n",
       " ('k', 's'),\n",
       " ('q', 'h')]"
      ]
     },
     "execution_count": 398,
     "metadata": {},
     "output_type": "execute_result"
    }
   ],
   "source": [
    "war.sortPairs(0)"
   ]
  },
  {
   "cell_type": "code",
   "execution_count": 399,
   "metadata": {
    "scrolled": true
   },
   "outputs": [
    {
     "data": {
      "text/plain": [
       "[('10', 'c'),\n",
       " ('2', 'd'),\n",
       " ('3', 'h'),\n",
       " ('6', 'h'),\n",
       " ('9', 's'),\n",
       " ('k', 's'),\n",
       " ('q', 'h')]"
      ]
     },
     "execution_count": 399,
     "metadata": {},
     "output_type": "execute_result"
    }
   ],
   "source": [
    "war.sortAscending(0)"
   ]
  },
  {
   "cell_type": "code",
   "execution_count": 390,
   "metadata": {},
   "outputs": [
    {
     "data": {
      "text/plain": [
       "('2', 'h')"
      ]
     },
     "execution_count": 390,
     "metadata": {},
     "output_type": "execute_result"
    }
   ],
   "source": [
    "war.deck[0]"
   ]
  },
  {
   "cell_type": "code",
   "execution_count": 380,
   "metadata": {},
   "outputs": [
    {
     "data": {
      "text/plain": [
       "1"
      ]
     },
     "execution_count": 380,
     "metadata": {},
     "output_type": "execute_result"
    }
   ],
   "source": [
    "war.enumDeck[0][0]"
   ]
  },
  {
   "cell_type": "code",
   "execution_count": 270,
   "metadata": {},
   "outputs": [
    {
     "name": "stdout",
     "output_type": "stream",
     "text": [
      "<enumerate object at 0x7f93896f05e8>\n"
     ]
    }
   ],
   "source": [
    "print(war.enumDeck)"
   ]
  },
  {
   "cell_type": "code",
   "execution_count": 317,
   "metadata": {},
   "outputs": [
    {
     "data": {
      "text/plain": [
       "[(1, ('2', 'h')),\n",
       " (2, ('3', 'h')),\n",
       " (3, ('4', 'h')),\n",
       " (4, ('5', 'h')),\n",
       " (5, ('6', 'h')),\n",
       " (6, ('7', 'h')),\n",
       " (7, ('8', 'h')),\n",
       " (8, ('9', 'h')),\n",
       " (9, ('10', 'h')),\n",
       " (10, ('j', 'h')),\n",
       " (11, ('q', 'h')),\n",
       " (12, ('k', 'h')),\n",
       " (13, ('a', 'h')),\n",
       " (14, ('2', 'd')),\n",
       " (15, ('3', 'd')),\n",
       " (16, ('4', 'd')),\n",
       " (17, ('5', 'd')),\n",
       " (18, ('6', 'd')),\n",
       " (19, ('7', 'd')),\n",
       " (20, ('8', 'd')),\n",
       " (21, ('9', 'd')),\n",
       " (22, ('10', 'd')),\n",
       " (23, ('j', 'd')),\n",
       " (24, ('q', 'd')),\n",
       " (25, ('k', 'd')),\n",
       " (26, ('a', 'd')),\n",
       " (27, ('2', 'c')),\n",
       " (28, ('3', 'c')),\n",
       " (29, ('4', 'c')),\n",
       " (30, ('5', 'c')),\n",
       " (31, ('6', 'c')),\n",
       " (32, ('7', 'c')),\n",
       " (33, ('8', 'c')),\n",
       " (34, ('9', 'c')),\n",
       " (35, ('10', 'c')),\n",
       " (36, ('j', 'c')),\n",
       " (37, ('q', 'c')),\n",
       " (38, ('k', 'c')),\n",
       " (39, ('a', 'c')),\n",
       " (40, ('2', 's')),\n",
       " (41, ('3', 's')),\n",
       " (42, ('4', 's')),\n",
       " (43, ('5', 's')),\n",
       " (44, ('6', 's')),\n",
       " (45, ('7', 's')),\n",
       " (46, ('8', 's')),\n",
       " (47, ('9', 's')),\n",
       " (48, ('10', 's')),\n",
       " (49, ('j', 's')),\n",
       " (50, ('q', 's')),\n",
       " (51, ('k', 's')),\n",
       " (52, ('a', 's'))]"
      ]
     },
     "execution_count": 317,
     "metadata": {},
     "output_type": "execute_result"
    }
   ],
   "source": [
    "war.enumDeck"
   ]
  },
  {
   "cell_type": "code",
   "execution_count": null,
   "metadata": {},
   "outputs": [],
   "source": []
  }
 ],
 "metadata": {
  "kernelspec": {
   "display_name": "Python 3",
   "language": "python",
   "name": "python3"
  },
  "language_info": {
   "codemirror_mode": {
    "name": "ipython",
    "version": 3
   },
   "file_extension": ".py",
   "mimetype": "text/x-python",
   "name": "python",
   "nbconvert_exporter": "python",
   "pygments_lexer": "ipython3",
   "version": "3.6.5"
  }
 },
 "nbformat": 4,
 "nbformat_minor": 2
}
