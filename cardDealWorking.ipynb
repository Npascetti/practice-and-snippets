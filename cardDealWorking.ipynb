{
 "cells": [
  {
   "cell_type": "code",
   "execution_count": 78,
   "metadata": {},
   "outputs": [],
   "source": [
    "import random\n",
    "from random import *\n",
    "from collections import defaultdict"
   ]
  },
  {
   "cell_type": "code",
   "execution_count": 79,
   "metadata": {},
   "outputs": [],
   "source": [
    "suits = ['h', 'd', 'c', 's']"
   ]
  },
  {
   "cell_type": "code",
   "execution_count": 80,
   "metadata": {},
   "outputs": [],
   "source": [
    "values = ['2', '3', '4', '5', '6', '7', '8', '9', '10', 'j', 'q', 'k', 'a']"
   ]
  },
  {
   "cell_type": "code",
   "execution_count": 81,
   "metadata": {},
   "outputs": [],
   "source": [
    "deck = [(value, suit) for suit in suits for value in values]"
   ]
  },
  {
   "cell_type": "code",
   "execution_count": 82,
   "metadata": {},
   "outputs": [],
   "source": [
    "class Card:\n",
    "    def __init__(self, value, suit):\n",
    "        self.value = value\n",
    "        self.suit = suit"
   ]
  },
  {
   "cell_type": "code",
   "execution_count": 83,
   "metadata": {},
   "outputs": [
    {
     "data": {
      "text/plain": [
       "[('2', 'h'),\n",
       " ('3', 'h'),\n",
       " ('4', 'h'),\n",
       " ('5', 'h'),\n",
       " ('6', 'h'),\n",
       " ('7', 'h'),\n",
       " ('8', 'h'),\n",
       " ('9', 'h'),\n",
       " ('10', 'h'),\n",
       " ('j', 'h'),\n",
       " ('q', 'h'),\n",
       " ('k', 'h'),\n",
       " ('a', 'h'),\n",
       " ('2', 'd'),\n",
       " ('3', 'd'),\n",
       " ('4', 'd'),\n",
       " ('5', 'd'),\n",
       " ('6', 'd'),\n",
       " ('7', 'd'),\n",
       " ('8', 'd'),\n",
       " ('9', 'd'),\n",
       " ('10', 'd'),\n",
       " ('j', 'd'),\n",
       " ('q', 'd'),\n",
       " ('k', 'd'),\n",
       " ('a', 'd'),\n",
       " ('2', 'c'),\n",
       " ('3', 'c'),\n",
       " ('4', 'c'),\n",
       " ('5', 'c'),\n",
       " ('6', 'c'),\n",
       " ('7', 'c'),\n",
       " ('8', 'c'),\n",
       " ('9', 'c'),\n",
       " ('10', 'c'),\n",
       " ('j', 'c'),\n",
       " ('q', 'c'),\n",
       " ('k', 'c'),\n",
       " ('a', 'c'),\n",
       " ('2', 's'),\n",
       " ('3', 's'),\n",
       " ('4', 's'),\n",
       " ('5', 's'),\n",
       " ('6', 's'),\n",
       " ('7', 's'),\n",
       " ('8', 's'),\n",
       " ('9', 's'),\n",
       " ('10', 's'),\n",
       " ('j', 's'),\n",
       " ('q', 's'),\n",
       " ('k', 's'),\n",
       " ('a', 's')]"
      ]
     },
     "execution_count": 83,
     "metadata": {},
     "output_type": "execute_result"
    }
   ],
   "source": [
    "deck"
   ]
  },
  {
   "cell_type": "code",
   "execution_count": 114,
   "metadata": {},
   "outputs": [],
   "source": [
    "def dealCards(numPlayers, numCardsForDeal):\n",
    "    hands = defaultdict(list)\n",
    "    shuffledDeck = sample(deck, 52)\n",
    "    i = 0\n",
    "    for x in range(numPlayers * numCardsForDeal):\n",
    "        hands[i].append(shuffledDeck[0])\n",
    "        shuffledDeck.pop(0)\n",
    "        i += 1\n",
    "        if i > (numPlayers - 1):\n",
    "            i = 0\n",
    "    print(hands)"
   ]
  },
  {
   "cell_type": "code",
   "execution_count": 115,
   "metadata": {},
   "outputs": [
    {
     "name": "stdout",
     "output_type": "stream",
     "text": [
      "defaultdict(<class 'list'>, {0: [('4', 'c'), ('10', 'c'), ('j', 'c'), ('j', 'd'), ('q', 'c'), ('7', 'h'), ('6', 'd'), ('8', 'c')], 1: [('j', 's'), ('2', 's'), ('9', 's'), ('6', 's'), ('5', 's'), ('q', 'h'), ('7', 'c'), ('9', 'd')]})\n"
     ]
    }
   ],
   "source": [
    "dealCards(2,8)"
   ]
  },
  {
   "cell_type": "code",
   "execution_count": 123,
   "metadata": {},
   "outputs": [],
   "source": [
    "class Game:\n",
    "    def __init__(self, name, numPlayers, numCardsForDeal):\n",
    "        self.name = name\n",
    "        self.numPlayers = numPlayers\n",
    "        self.numCardsForDeal = numCardsForDeal\n",
    "        \n",
    "        values = ['2', '3', '4', '5', '6', '7', '8', '9', '10', 'j', 'q', 'k', 'a']\n",
    "        suits = ['h', 'd', 'c', 's']\n",
    "        self.deck = [(value, suit) for suit in suits for value in values] \n",
    "        \n",
    "    def shuffleDeck(self):\n",
    "        self.shuffledDeck = sample(self.deck, 52)\n",
    "        return self.shuffledDeck\n",
    "        \n",
    "    def dealCards(self):\n",
    "        hands = defaultdict(list)\n",
    "        shuffledDeck = sample(deck, 52)\n",
    "        i = 0\n",
    "        for x in range(numPlayers * numCardsForDeal):\n",
    "            hands[i].append(shuffledDeck[0])\n",
    "            shuffledDeck.pop(0)\n",
    "            i += 1\n",
    "            if i > (numPlayers - 1):\n",
    "                i = 0\n",
    "        print(hands)"
   ]
  },
  {
   "cell_type": "code",
   "execution_count": 128,
   "metadata": {},
   "outputs": [],
   "source": [
    "Golf1 = Game(\"Golf\", 3, 8)"
   ]
  },
  {
   "cell_type": "code",
   "execution_count": 134,
   "metadata": {},
   "outputs": [
    {
     "data": {
      "text/plain": [
       "[('q', 'd'),\n",
       " ('9', 'h'),\n",
       " ('4', 'd'),\n",
       " ('a', 'c'),\n",
       " ('6', 'd'),\n",
       " ('8', 'c'),\n",
       " ('q', 'c'),\n",
       " ('3', 'c'),\n",
       " ('3', 's'),\n",
       " ('k', 'd'),\n",
       " ('j', 'd'),\n",
       " ('8', 'h'),\n",
       " ('7', 'c'),\n",
       " ('10', 'c'),\n",
       " ('5', 's'),\n",
       " ('2', 'd'),\n",
       " ('6', 'h'),\n",
       " ('2', 's'),\n",
       " ('2', 'c'),\n",
       " ('4', 'c'),\n",
       " ('q', 's'),\n",
       " ('4', 's'),\n",
       " ('a', 's'),\n",
       " ('k', 's'),\n",
       " ('q', 'h'),\n",
       " ('6', 'c'),\n",
       " ('7', 'h'),\n",
       " ('7', 's'),\n",
       " ('10', 'd'),\n",
       " ('j', 'c'),\n",
       " ('5', 'c'),\n",
       " ('k', 'h'),\n",
       " ('j', 'h'),\n",
       " ('3', 'd'),\n",
       " ('5', 'd'),\n",
       " ('7', 'd'),\n",
       " ('3', 'h'),\n",
       " ('10', 'h'),\n",
       " ('9', 's'),\n",
       " ('8', 's'),\n",
       " ('a', 'd'),\n",
       " ('4', 'h'),\n",
       " ('k', 'c'),\n",
       " ('9', 'c'),\n",
       " ('8', 'd'),\n",
       " ('6', 's'),\n",
       " ('j', 's'),\n",
       " ('9', 'd'),\n",
       " ('a', 'h'),\n",
       " ('10', 's'),\n",
       " ('2', 'h'),\n",
       " ('5', 'h')]"
      ]
     },
     "execution_count": 134,
     "metadata": {},
     "output_type": "execute_result"
    }
   ],
   "source": [
    "Golf1.shuffleDeck()"
   ]
  },
  {
   "cell_type": "code",
   "execution_count": null,
   "metadata": {},
   "outputs": [],
   "source": [
    "Golf1."
   ]
  }
 ],
 "metadata": {
  "kernelspec": {
   "display_name": "Python 3",
   "language": "python",
   "name": "python3"
  },
  "language_info": {
   "codemirror_mode": {
    "name": "ipython",
    "version": 3
   },
   "file_extension": ".py",
   "mimetype": "text/x-python",
   "name": "python",
   "nbconvert_exporter": "python",
   "pygments_lexer": "ipython3",
   "version": "3.6.5"
  }
 },
 "nbformat": 4,
 "nbformat_minor": 2
}
