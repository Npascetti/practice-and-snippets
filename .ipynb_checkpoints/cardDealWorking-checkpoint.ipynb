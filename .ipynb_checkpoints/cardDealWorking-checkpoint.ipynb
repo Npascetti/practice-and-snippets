{
 "cells": [
  {
   "cell_type": "code",
   "execution_count": 1,
   "metadata": {},
   "outputs": [],
   "source": [
    "import random\n",
    "from random import *\n",
    "from collections import defaultdict"
   ]
  },
  {
   "cell_type": "code",
   "execution_count": 2,
   "metadata": {},
   "outputs": [],
   "source": [
    "suits = ['h', 'd', 'c', 's']"
   ]
  },
  {
   "cell_type": "code",
   "execution_count": 3,
   "metadata": {},
   "outputs": [],
   "source": [
    "values = ['2', '3', '4', '5', '6', '7', '8', '9', '10', 'j', 'q', 'k', 'a']"
   ]
  },
  {
   "cell_type": "code",
   "execution_count": 4,
   "metadata": {},
   "outputs": [],
   "source": [
    "deck = [(value, suit) for suit in suits for value in values]"
   ]
  },
  {
   "cell_type": "code",
   "execution_count": 5,
   "metadata": {},
   "outputs": [],
   "source": [
    "class Card:\n",
    "    def __init__(self, value, suit):\n",
    "        self.value = value\n",
    "        self.suit = suit"
   ]
  },
  {
   "cell_type": "code",
   "execution_count": 6,
   "metadata": {},
   "outputs": [
    {
     "data": {
      "text/plain": [
       "[('2', 'h'),\n",
       " ('3', 'h'),\n",
       " ('4', 'h'),\n",
       " ('5', 'h'),\n",
       " ('6', 'h'),\n",
       " ('7', 'h'),\n",
       " ('8', 'h'),\n",
       " ('9', 'h'),\n",
       " ('10', 'h'),\n",
       " ('j', 'h'),\n",
       " ('q', 'h'),\n",
       " ('k', 'h'),\n",
       " ('a', 'h'),\n",
       " ('2', 'd'),\n",
       " ('3', 'd'),\n",
       " ('4', 'd'),\n",
       " ('5', 'd'),\n",
       " ('6', 'd'),\n",
       " ('7', 'd'),\n",
       " ('8', 'd'),\n",
       " ('9', 'd'),\n",
       " ('10', 'd'),\n",
       " ('j', 'd'),\n",
       " ('q', 'd'),\n",
       " ('k', 'd'),\n",
       " ('a', 'd'),\n",
       " ('2', 'c'),\n",
       " ('3', 'c'),\n",
       " ('4', 'c'),\n",
       " ('5', 'c'),\n",
       " ('6', 'c'),\n",
       " ('7', 'c'),\n",
       " ('8', 'c'),\n",
       " ('9', 'c'),\n",
       " ('10', 'c'),\n",
       " ('j', 'c'),\n",
       " ('q', 'c'),\n",
       " ('k', 'c'),\n",
       " ('a', 'c'),\n",
       " ('2', 's'),\n",
       " ('3', 's'),\n",
       " ('4', 's'),\n",
       " ('5', 's'),\n",
       " ('6', 's'),\n",
       " ('7', 's'),\n",
       " ('8', 's'),\n",
       " ('9', 's'),\n",
       " ('10', 's'),\n",
       " ('j', 's'),\n",
       " ('q', 's'),\n",
       " ('k', 's'),\n",
       " ('a', 's')]"
      ]
     },
     "execution_count": 6,
     "metadata": {},
     "output_type": "execute_result"
    }
   ],
   "source": [
    "deck"
   ]
  },
  {
   "cell_type": "code",
   "execution_count": 7,
   "metadata": {},
   "outputs": [],
   "source": [
    "def dealCards(numPlayers, numCardsForDeal):\n",
    "    hands = defaultdict(list)\n",
    "    shuffledDeck = sample(deck, 52)\n",
    "    i = 0\n",
    "    for x in range(numPlayers * numCardsForDeal):\n",
    "        hands[i].append(shuffledDeck[0])\n",
    "        shuffledDeck.pop(0)\n",
    "        i += 1\n",
    "        if i > (numPlayers - 1):\n",
    "            i = 0\n",
    "    print(hands)"
   ]
  },
  {
   "cell_type": "code",
   "execution_count": 8,
   "metadata": {},
   "outputs": [
    {
     "name": "stdout",
     "output_type": "stream",
     "text": [
      "defaultdict(<class 'list'>, {0: [('9', 'c'), ('5', 'h'), ('j', 'd'), ('7', 'c'), ('q', 'd'), ('2', 's'), ('j', 'h'), ('2', 'd')], 1: [('j', 's'), ('9', 'h'), ('q', 'h'), ('10', 'c'), ('7', 'd'), ('7', 's'), ('k', 'c'), ('5', 's')]})\n"
     ]
    }
   ],
   "source": [
    "dealCards(2,8)"
   ]
  },
  {
   "cell_type": "code",
   "execution_count": 76,
   "metadata": {},
   "outputs": [],
   "source": [
    "class Game:\n",
    "    def __init__(self, name, numPlayers, numCardsForDeal):\n",
    "        self.name = name\n",
    "        self.numPlayers = numPlayers\n",
    "        self.numCardsForDeal = numCardsForDeal\n",
    "        \n",
    "        values = ['2', '3', '4', '5', '6', '7', '8', '9', '10', 'j', 'q', 'k', 'a']\n",
    "        suits = ['h', 'd', 'c', 's']\n",
    "        self.deck = [(value, suit) for suit in suits for value in values] \n",
    "        \n",
    "    def shuffleDeck(self):\n",
    "        try:\n",
    "            self.shuffledDeck = sample(self.shuffledDeck, len(self.shuffledDeck))\n",
    "            return self.shuffledDeck\n",
    "        except: \n",
    "            self.shuffledDeck = sample(self.deck, 52)\n",
    "            return self.shuffledDeck\n",
    "        \n",
    "    def dealCards(self):\n",
    "        self.hands = defaultdict(list)\n",
    "        i = 0\n",
    "        for x in range(self.numPlayers * self.numCardsForDeal):\n",
    "            self.hands[i].append(self.shuffledDeck[0])\n",
    "            self.shuffledDeck.pop(0)\n",
    "            i += 1\n",
    "            if i > (self.numPlayers - 1):\n",
    "                i = 0\n",
    "        return self.hands\n",
    "    \n",
    "    def drawCard(self, playerPosition):\n",
    "        self.hands[playerPosition].append(self.shuffledDeck[0])\n",
    "        self.shuffledDeck.pop(0)\n",
    "        \n",
    "    def playCards(self, playerPosition, cardValues):\n",
    "        self.inPlayCards = defaultdict(list)\n",
    "        for cardValue in cardValues:\n",
    "            if cardValue in hands[playerPosition]:\n",
    "                self.inPlayCards[playerPosition].append(cardValue)\n",
    "                self.hands.pop(r'{cardValue}')\n",
    "        return self.inPlayCards\n",
    "                \n",
    "            "
   ]
  },
  {
   "cell_type": "code",
   "execution_count": 77,
   "metadata": {},
   "outputs": [],
   "source": [
    "Golf1 = Game(\"Golf\", 3, 8)"
   ]
  },
  {
   "cell_type": "code",
   "execution_count": 74,
   "metadata": {},
   "outputs": [
    {
     "ename": "AttributeError",
     "evalue": "'Game' object has no attribute 'shuffledDeck'",
     "output_type": "error",
     "traceback": [
      "\u001b[0;31m---------------------------------------------------------------------------\u001b[0m",
      "\u001b[0;31mAttributeError\u001b[0m                            Traceback (most recent call last)",
      "\u001b[0;32m<ipython-input-74-3c81e89abc6e>\u001b[0m in \u001b[0;36m<module>\u001b[0;34m()\u001b[0m\n\u001b[0;32m----> 1\u001b[0;31m \u001b[0mGolf1\u001b[0m\u001b[0;34m.\u001b[0m\u001b[0mdealCards\u001b[0m\u001b[0;34m(\u001b[0m\u001b[0;34m)\u001b[0m\u001b[0;34m\u001b[0m\u001b[0m\n\u001b[0m",
      "\u001b[0;32m<ipython-input-72-3a54a674f06d>\u001b[0m in \u001b[0;36mdealCards\u001b[0;34m(self)\u001b[0m\n\u001b[1;32m     22\u001b[0m         \u001b[0mi\u001b[0m \u001b[0;34m=\u001b[0m \u001b[0;36m0\u001b[0m\u001b[0;34m\u001b[0m\u001b[0m\n\u001b[1;32m     23\u001b[0m         \u001b[0;32mfor\u001b[0m \u001b[0mx\u001b[0m \u001b[0;32min\u001b[0m \u001b[0mrange\u001b[0m\u001b[0;34m(\u001b[0m\u001b[0mself\u001b[0m\u001b[0;34m.\u001b[0m\u001b[0mnumPlayers\u001b[0m \u001b[0;34m*\u001b[0m \u001b[0mself\u001b[0m\u001b[0;34m.\u001b[0m\u001b[0mnumCardsForDeal\u001b[0m\u001b[0;34m)\u001b[0m\u001b[0;34m:\u001b[0m\u001b[0;34m\u001b[0m\u001b[0m\n\u001b[0;32m---> 24\u001b[0;31m             \u001b[0mself\u001b[0m\u001b[0;34m.\u001b[0m\u001b[0mhands\u001b[0m\u001b[0;34m[\u001b[0m\u001b[0mi\u001b[0m\u001b[0;34m]\u001b[0m\u001b[0;34m.\u001b[0m\u001b[0mappend\u001b[0m\u001b[0;34m(\u001b[0m\u001b[0mself\u001b[0m\u001b[0;34m.\u001b[0m\u001b[0mshuffledDeck\u001b[0m\u001b[0;34m[\u001b[0m\u001b[0;36m0\u001b[0m\u001b[0;34m]\u001b[0m\u001b[0;34m)\u001b[0m\u001b[0;34m\u001b[0m\u001b[0m\n\u001b[0m\u001b[1;32m     25\u001b[0m             \u001b[0mself\u001b[0m\u001b[0;34m.\u001b[0m\u001b[0mshuffledDeck\u001b[0m\u001b[0;34m.\u001b[0m\u001b[0mpop\u001b[0m\u001b[0;34m(\u001b[0m\u001b[0;36m0\u001b[0m\u001b[0;34m)\u001b[0m\u001b[0;34m\u001b[0m\u001b[0m\n\u001b[1;32m     26\u001b[0m             \u001b[0mi\u001b[0m \u001b[0;34m+=\u001b[0m \u001b[0;36m1\u001b[0m\u001b[0;34m\u001b[0m\u001b[0m\n",
      "\u001b[0;31mAttributeError\u001b[0m: 'Game' object has no attribute 'shuffledDeck'"
     ]
    }
   ],
   "source": [
    "Golf1.dealCards()"
   ]
  },
  {
   "cell_type": "code",
   "execution_count": 75,
   "metadata": {},
   "outputs": [
    {
     "name": "stdout",
     "output_type": "stream",
     "text": [
      "Shuffled Deck does not yet exist.\n"
     ]
    },
    {
     "data": {
      "text/plain": [
       "[('8', 's'),\n",
       " ('10', 'h'),\n",
       " ('k', 'd'),\n",
       " ('5', 'd'),\n",
       " ('3', 'h'),\n",
       " ('2', 's'),\n",
       " ('6', 'd'),\n",
       " ('j', 'h'),\n",
       " ('6', 's'),\n",
       " ('8', 'h'),\n",
       " ('5', 'c'),\n",
       " ('2', 'h'),\n",
       " ('a', 'c'),\n",
       " ('9', 'h'),\n",
       " ('3', 'd'),\n",
       " ('4', 's'),\n",
       " ('a', 's'),\n",
       " ('k', 's'),\n",
       " ('6', 'h'),\n",
       " ('10', 'd'),\n",
       " ('4', 'd'),\n",
       " ('q', 'h'),\n",
       " ('9', 'd'),\n",
       " ('5', 'h'),\n",
       " ('q', 'c'),\n",
       " ('3', 's'),\n",
       " ('a', 'd'),\n",
       " ('7', 'c'),\n",
       " ('2', 'd'),\n",
       " ('4', 'h'),\n",
       " ('j', 's'),\n",
       " ('j', 'c'),\n",
       " ('7', 'h'),\n",
       " ('a', 'h'),\n",
       " ('q', 's'),\n",
       " ('9', 's'),\n",
       " ('q', 'd'),\n",
       " ('2', 'c'),\n",
       " ('7', 'd'),\n",
       " ('4', 'c'),\n",
       " ('10', 's'),\n",
       " ('7', 's'),\n",
       " ('9', 'c'),\n",
       " ('k', 'c'),\n",
       " ('3', 'c'),\n",
       " ('6', 'c'),\n",
       " ('8', 'c'),\n",
       " ('10', 'c'),\n",
       " ('j', 'd'),\n",
       " ('8', 'd'),\n",
       " ('5', 's'),\n",
       " ('k', 'h')]"
      ]
     },
     "execution_count": 75,
     "metadata": {},
     "output_type": "execute_result"
    }
   ],
   "source": [
    "Golf1.shuffleDeck()"
   ]
  },
  {
   "cell_type": "code",
   "execution_count": 69,
   "metadata": {},
   "outputs": [],
   "source": [
    "Golf1.drawCard(2)"
   ]
  },
  {
   "cell_type": "code",
   "execution_count": 70,
   "metadata": {},
   "outputs": [
    {
     "data": {
      "text/plain": [
       "[('q', 'c'),\n",
       " ('a', 's'),\n",
       " ('5', 'd'),\n",
       " ('9', 'c'),\n",
       " ('5', 'h'),\n",
       " ('2', 's'),\n",
       " ('q', 'h'),\n",
       " ('k', 's'),\n",
       " ('10', 'h')]"
      ]
     },
     "execution_count": 70,
     "metadata": {},
     "output_type": "execute_result"
    }
   ],
   "source": [
    "Golf1.hands[2]"
   ]
  },
  {
   "cell_type": "code",
   "execution_count": 71,
   "metadata": {},
   "outputs": [
    {
     "data": {
      "text/plain": [
       "[('7', 'h'),\n",
       " ('6', 'd'),\n",
       " ('4', 'h'),\n",
       " ('j', 's'),\n",
       " ('4', 'd'),\n",
       " ('7', 'c'),\n",
       " ('7', 's'),\n",
       " ('3', 's'),\n",
       " ('2', 'h'),\n",
       " ('6', 's'),\n",
       " ('8', 'h'),\n",
       " ('k', 'd'),\n",
       " ('a', 'd'),\n",
       " ('2', 'c'),\n",
       " ('a', 'h'),\n",
       " ('j', 'h'),\n",
       " ('5', 'c'),\n",
       " ('k', 'h'),\n",
       " ('8', 'd'),\n",
       " ('a', 'c'),\n",
       " ('4', 's'),\n",
       " ('10', 's'),\n",
       " ('6', 'h'),\n",
       " ('9', 's'),\n",
       " ('9', 'h'),\n",
       " ('j', 'd'),\n",
       " ('8', 'c')]"
      ]
     },
     "execution_count": 71,
     "metadata": {},
     "output_type": "execute_result"
    }
   ],
   "source": [
    "Golf1.shuffledDeck"
   ]
  },
  {
   "cell_type": "code",
   "execution_count": null,
   "metadata": {},
   "outputs": [],
   "source": []
  }
 ],
 "metadata": {
  "kernelspec": {
   "display_name": "Python 3",
   "language": "python",
   "name": "python3"
  },
  "language_info": {
   "codemirror_mode": {
    "name": "ipython",
    "version": 3
   },
   "file_extension": ".py",
   "mimetype": "text/x-python",
   "name": "python",
   "nbconvert_exporter": "python",
   "pygments_lexer": "ipython3",
   "version": "3.6.5"
  }
 },
 "nbformat": 4,
 "nbformat_minor": 2
}
